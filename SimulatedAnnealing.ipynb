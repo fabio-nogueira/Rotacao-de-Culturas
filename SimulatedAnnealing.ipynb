#!/usr/bin/env python
# coding: utf-8

# In[1]:


import numpy as np
from itertools import permutations
from itertools import cycle
from random import *
import math
import random
import pandas as pd
import math
import mpmath as mpmath


# In[2]:


Planilha = pd.ExcelFile('RotacaoCulturas.xlsx')
TabelaCulturas = pd.read_excel(Planilha,  'Culturas')
TabelaLucratividade = pd.read_excel(Planilha,  'Lucratividade')
TabelaProdutividade = pd.read_excel(Planilha,  'Produtividade')


# In[ ]:





# In[ ]:





# In[3]:


L = 16 #Numero maximo de lotes definido no artigo
M = 24 #Numero de periodos de plantio definido no artigo (2 anos)

CulturaIndice = TabelaCulturas.CulturaIndice.to_numpy() #Transformando a Coluna da Planilha em Numpy Array
FamiliaIndice = TabelaCulturas.FamiliaIndice.to_numpy() #Transformando a Coluna da Planilha em Numpy Array
CicloEmTi = TabelaCulturas.CicloEmTi.to_numpy() #Transformando a Coluna da Planilha em Numpy Array
Plantas = CulturaIndice[-1] #Total de Plantas na Planilha = Ultimo elemento do indice de Culturas
Familias = FamiliaIndice[-1] #Total de Familias na Planilha = Ultimo elemento do indice de Familias
vetorPlantasSorteado = np.array(CulturaIndice) #Indices das plantas
InicioDaEpocaDePlantio = TabelaCulturas.InicioDaEpocaDePlantio.to_numpy() #Transformando a Coluna da Planilha em Numpy Array
FimDaEpocaDePlantio = TabelaCulturas.FimDaEpocaDePlantio.to_numpy() #Transformando a Coluna da Planilha em Numpy Array


# In[4]:


def sorteio(l):  #Funcao sorteia um array, no caso serve pra sortear o array dos indices das plantas
    random.shuffle(l)
    #print("Vetor de Plantas sorteado: ", l)
    return l


# In[5]:


def taNoCiclo(per,inicio,fim):  #Função para ver se o ciclo de uma planta (plantar e colher) cabe num lote
    if (inicio<fim):
        while (inicio<=fim):
            if (inicio==per):
                return 1
            inicio=inicio+1
        return 0 
    if (inicio==fim):
        if(per==inicio):
            return 1     
    if (inicio>fim):
        while(inicio<12):
            inicio=inicio+1
            if(inicio==per):
                return 1
        inicio=1 
        if (inicio==per):
            return 1
        if (inicio<fim):
            while (inicio<=fim):
                if (inicio==per):
                    return 1
                inicio=inicio+1
    return 0


# In[ ]:





# In[6]:


def Construtor():  #Ao chamar essa função, retorna uma rotacao de culturas DE UMA LINHA(LOTE) que segue as seguintes regras:
    cult1 = [] #Vetor para auxiliar na função de construção
    tempo1 = [] #Vetor para auxiliar na função de construção
    fam1=[] #Vetor para auxiliar na função de construção
    cult3 = np.zeros((L, M)) #Vetor para auxiliar na função de construção
    sorteio(vetorPlantasSorteado)  #Plantas de Familia nao se repetem na mesma linha (Lote)
    PER = 1 #Plantas só são plantadas em seu período de plantio
    dif=M #Planta só é plantada se seu tempo de plantio é respeitado ex: dura 3 meses pra colher, tem que ter 3 slots em branco
    vetorCircular = cycle(range(Plantas))   #uso de um vetor circular aleatorio das Plantas
    while(dif>0):
        for i in vetorCircular:
            x = vetorPlantasSorteado[i]
            y = InicioDaEpocaDePlantio[x-1]
            z = FimDaEpocaDePlantio[x-1]
            g = CicloEmTi[x-1]
            f = FamiliaIndice[x-1]
            PER=PER%12
            if(PER==0):
                PER=12
            w = taNoCiclo(PER, y, z)
            if (w==1):
                if (g<=dif):  
                    cult1.append(x)
                    tempo1.append(g)
                    fam1.append(f)
                    verifica=len(fam1)
                    if ((verifica>1) and (fam1[verifica-1]==fam1[verifica-2])): #se sao familias diferentes
                        if(fam1[verifica-1]!=11):
                            cult1.pop(verifica-1)
                            tempo1.pop(verifica-1)
                            fam1.pop(verifica-1)
                            break
                    dif = dif-g
                    PER=PER+g 
                    break
                else:
                    break
    cult2=np.array(cult1)
    tempo2=np.array(tempo1)
    cult3=np.repeat(cult2, tempo2)  
    return cult3


# In[7]:


ConstrucaoInicial = np.zeros((L, M)) #Criacao de uma matriz, com L Lotes (linhas) e M colunas (periodos)
ConstrucaoDeLote=Construtor() #Constroi um Lote seguindo as regras mencionadas anteriormente

#Agora construir varias linhas que seguem as regras, pra formar uma Matriz Completa de Rotacao de Culturas
for i in range(L):
    for j in range(M):
        ConstrucaoInicial[i,j]=ConstrucaoDeLote[j]
    cult1 = []
    tempo1 = []
    fam1=[]
    ConstrucaoDeLote=Construtor()


# In[8]:


#Transformando em DataFrame
RotacaoCulturasConstruida = pd.DataFrame(ConstrucaoInicial, columns=['Janeiro', 'Fevereiro', 'Março', 'Abril', 'Maio', 'Junho', 'Julho', 'Agosto', 'Setembro', 'Outubro', 'Novembro', 'Dezembro', 'Janeiro', 'Fevereiro', 'Março', 'Abril', 'Maio', 'Junho', 'Julho', 'Agosto', 'Setembro', 'Outubro', 'Novembro', 'Dezembro'])
#Transformando em Excel:
RotacaoCulturasConstruida.to_excel("algoritmoConstrutor.xlsx", sheet_name='Calendario', index = None, header=True)


# In[ ]:





# In[9]:


def gerarVizinhanca(Matriz):
    global vizinho1
    global vizinho2
    global vizinho3
    global vizinho4
    global vizinho5
    global vizinho6
    global vizinho7
    global vizinho8
    global vizinho9
    global vizinho10
    global vizinho11
    global vizinho12
    global vizinho13
    global vizinho14
    global vizinho15
    global vizinho16
    global vizinhos
    
    vizinho1 = np.array(Matriz)
    vizinho2 = np.array(Matriz)
    vizinho3 = np.array(Matriz)
    vizinho4 = np.array(Matriz)
    vizinho5 = np.array(Matriz)
    vizinho6 = np.array(Matriz)
    vizinho7 = np.array(Matriz)
    vizinho8 = np.array(Matriz)
    vizinho9 = np.array(Matriz)
    vizinho10 = np.array(Matriz)
    vizinho11 = np.array(Matriz)
    vizinho12 = np.array(Matriz)
    vizinho13 = np.array(Matriz)
    vizinho14 = np.array(Matriz)
    vizinho15 = np.array(Matriz)
    vizinho16 = np.array(Matriz)
    
    vizinhos = [vizinho1, vizinho2, vizinho3, vizinho4, vizinho5, vizinho6, vizinho7, vizinho8, vizinho9, vizinho10, vizinho11, vizinho12, vizinho13, vizinho14, vizinho15, vizinho16]
    
    i=0
    j=0
    
    for vizinho in vizinhos:
        ConstrucaoDeLote=Construtor()
        for j in range(M):
            vizinho[i,j]=ConstrucaoDeLote[j]
        i=i+1


# In[10]:


gerarVizinhanca(ConstrucaoInicial)


# In[11]:


#Transformando os Vizinhos em DataFrame pra depois poder por na planilha excel:
#Isto só serve pra conferir a vizinhanca inicial da matriz construida!
Vizinho1 = pd.DataFrame(vizinho1, columns=['Janeiro', 'Fevereiro', 'Março', 'Abril', 'Maio', 'Junho', 'Julho', 'Agosto', 'Setembro', 'Outubro', 'Novembro', 'Dezembro', 'Janeiro', 'Fevereiro', 'Março', 'Abril', 'Maio', 'Junho', 'Julho', 'Agosto', 'Setembro', 'Outubro', 'Novembro', 'Dezembro'])
Vizinho2 = pd.DataFrame(vizinho2, columns=['Janeiro', 'Fevereiro', 'Março', 'Abril', 'Maio', 'Junho', 'Julho', 'Agosto', 'Setembro', 'Outubro', 'Novembro', 'Dezembro', 'Janeiro', 'Fevereiro', 'Março', 'Abril', 'Maio', 'Junho', 'Julho', 'Agosto', 'Setembro', 'Outubro', 'Novembro', 'Dezembro'])
Vizinho3 = pd.DataFrame(vizinho3, columns=['Janeiro', 'Fevereiro', 'Março', 'Abril', 'Maio', 'Junho', 'Julho', 'Agosto', 'Setembro', 'Outubro', 'Novembro', 'Dezembro', 'Janeiro', 'Fevereiro', 'Março', 'Abril', 'Maio', 'Junho', 'Julho', 'Agosto', 'Setembro', 'Outubro', 'Novembro', 'Dezembro'])
Vizinho4 = pd.DataFrame(vizinho4, columns=['Janeiro', 'Fevereiro', 'Março', 'Abril', 'Maio', 'Junho', 'Julho', 'Agosto', 'Setembro', 'Outubro', 'Novembro', 'Dezembro', 'Janeiro', 'Fevereiro', 'Março', 'Abril', 'Maio', 'Junho', 'Julho', 'Agosto', 'Setembro', 'Outubro', 'Novembro', 'Dezembro'])
Vizinho5 = pd.DataFrame(vizinho5, columns=['Janeiro', 'Fevereiro', 'Março', 'Abril', 'Maio', 'Junho', 'Julho', 'Agosto', 'Setembro', 'Outubro', 'Novembro', 'Dezembro', 'Janeiro', 'Fevereiro', 'Março', 'Abril', 'Maio', 'Junho', 'Julho', 'Agosto', 'Setembro', 'Outubro', 'Novembro', 'Dezembro'])
Vizinho6 = pd.DataFrame(vizinho6, columns=['Janeiro', 'Fevereiro', 'Março', 'Abril', 'Maio', 'Junho', 'Julho', 'Agosto', 'Setembro', 'Outubro', 'Novembro', 'Dezembro', 'Janeiro', 'Fevereiro', 'Março', 'Abril', 'Maio', 'Junho', 'Julho', 'Agosto', 'Setembro', 'Outubro', 'Novembro', 'Dezembro'])
Vizinho7 = pd.DataFrame(vizinho7, columns=['Janeiro', 'Fevereiro', 'Março', 'Abril', 'Maio', 'Junho', 'Julho', 'Agosto', 'Setembro', 'Outubro', 'Novembro', 'Dezembro', 'Janeiro', 'Fevereiro', 'Março', 'Abril', 'Maio', 'Junho', 'Julho', 'Agosto', 'Setembro', 'Outubro', 'Novembro', 'Dezembro'])
Vizinho8 = pd.DataFrame(vizinho8, columns=['Janeiro', 'Fevereiro', 'Março', 'Abril', 'Maio', 'Junho', 'Julho', 'Agosto', 'Setembro', 'Outubro', 'Novembro', 'Dezembro', 'Janeiro', 'Fevereiro', 'Março', 'Abril', 'Maio', 'Junho', 'Julho', 'Agosto', 'Setembro', 'Outubro', 'Novembro', 'Dezembro'])
Vizinho9 = pd.DataFrame(vizinho9, columns=['Janeiro', 'Fevereiro', 'Março', 'Abril', 'Maio', 'Junho', 'Julho', 'Agosto', 'Setembro', 'Outubro', 'Novembro', 'Dezembro', 'Janeiro', 'Fevereiro', 'Março', 'Abril', 'Maio', 'Junho', 'Julho', 'Agosto', 'Setembro', 'Outubro', 'Novembro', 'Dezembro'])
Vizinho10 = pd.DataFrame(vizinho10, columns=['Janeiro', 'Fevereiro', 'Março', 'Abril', 'Maio', 'Junho', 'Julho', 'Agosto', 'Setembro', 'Outubro', 'Novembro', 'Dezembro', 'Janeiro', 'Fevereiro', 'Março', 'Abril', 'Maio', 'Junho', 'Julho', 'Agosto', 'Setembro', 'Outubro', 'Novembro', 'Dezembro'])
Vizinho11 = pd.DataFrame(vizinho11, columns=['Janeiro', 'Fevereiro', 'Março', 'Abril', 'Maio', 'Junho', 'Julho', 'Agosto', 'Setembro', 'Outubro', 'Novembro', 'Dezembro', 'Janeiro', 'Fevereiro', 'Março', 'Abril', 'Maio', 'Junho', 'Julho', 'Agosto', 'Setembro', 'Outubro', 'Novembro', 'Dezembro'])
Vizinho12 = pd.DataFrame(vizinho12, columns=['Janeiro', 'Fevereiro', 'Março', 'Abril', 'Maio', 'Junho', 'Julho', 'Agosto', 'Setembro', 'Outubro', 'Novembro', 'Dezembro', 'Janeiro', 'Fevereiro', 'Março', 'Abril', 'Maio', 'Junho', 'Julho', 'Agosto', 'Setembro', 'Outubro', 'Novembro', 'Dezembro'])
Vizinho13 = pd.DataFrame(vizinho13, columns=['Janeiro', 'Fevereiro', 'Março', 'Abril', 'Maio', 'Junho', 'Julho', 'Agosto', 'Setembro', 'Outubro', 'Novembro', 'Dezembro', 'Janeiro', 'Fevereiro', 'Março', 'Abril', 'Maio', 'Junho', 'Julho', 'Agosto', 'Setembro', 'Outubro', 'Novembro', 'Dezembro'])
Vizinho14 = pd.DataFrame(vizinho14, columns=['Janeiro', 'Fevereiro', 'Março', 'Abril', 'Maio', 'Junho', 'Julho', 'Agosto', 'Setembro', 'Outubro', 'Novembro', 'Dezembro', 'Janeiro', 'Fevereiro', 'Março', 'Abril', 'Maio', 'Junho', 'Julho', 'Agosto', 'Setembro', 'Outubro', 'Novembro', 'Dezembro'])
Vizinho15 = pd.DataFrame(vizinho15, columns=['Janeiro', 'Fevereiro', 'Março', 'Abril', 'Maio', 'Junho', 'Julho', 'Agosto', 'Setembro', 'Outubro', 'Novembro', 'Dezembro', 'Janeiro', 'Fevereiro', 'Março', 'Abril', 'Maio', 'Junho', 'Julho', 'Agosto', 'Setembro', 'Outubro', 'Novembro', 'Dezembro'])
Vizinho16 = pd.DataFrame(vizinho16, columns=['Janeiro', 'Fevereiro', 'Março', 'Abril', 'Maio', 'Junho', 'Julho', 'Agosto', 'Setembro', 'Outubro', 'Novembro', 'Dezembro', 'Janeiro', 'Fevereiro', 'Março', 'Abril', 'Maio', 'Junho', 'Julho', 'Agosto', 'Setembro', 'Outubro', 'Novembro', 'Dezembro'])


# In[12]:


#Isto só serve pra conferir a vizinhanca inicial da matriz construida!
with pd.ExcelWriter('Vizinhanca_do_ConstrutorInicial.xlsx') as writer:  # Gerando Excel
    RotacaoCulturasConstruida.to_excel(writer, sheet_name='Construcao', index = None, header=True)
    Vizinho1.to_excel(writer, sheet_name='Vizinhanca-1', index = None, header=True)
    Vizinho2.to_excel(writer, sheet_name='Vizinhanca-2', index = None, header=True)
    Vizinho3.to_excel(writer, sheet_name='Vizinhanca-3', index = None, header=True)
    Vizinho4.to_excel(writer, sheet_name='Vizinhanca-4', index = None, header=True)
    Vizinho5.to_excel(writer, sheet_name='Vizinhanca-5', index = None, header=True)
    Vizinho6.to_excel(writer, sheet_name='Vizinhanca-6', index = None, header=True)
    Vizinho7.to_excel(writer, sheet_name='Vizinhanca-7', index = None, header=True)
    Vizinho8.to_excel(writer, sheet_name='Vizinhanca-8', index = None, header=True)
    Vizinho9.to_excel(writer, sheet_name='Vizinhanca-9', index = None, header=True)
    Vizinho10.to_excel(writer, sheet_name='Vizinhanca-10', index = None, header=True)
    Vizinho11.to_excel(writer, sheet_name='Vizinhanca-11', index = None, header=True)
    Vizinho12.to_excel(writer, sheet_name='Vizinhanca-12', index = None, header=True)
    Vizinho13.to_excel(writer, sheet_name='Vizinhanca-13', index = None, header=True)
    Vizinho14.to_excel(writer, sheet_name='Vizinhanca-14', index = None, header=True)
    Vizinho15.to_excel(writer, sheet_name='Vizinhanca-15', index = None, header=True)
    Vizinho16.to_excel(writer, sheet_name='Vizinhanca-16', index = None, header=True)


# In[13]:


lucratividade = TabelaLucratividade.values
terrenoTotal = 80 #MetrosQuadrados
AreaDeUmLote = (terrenoTotal/L) #80/16=5 Metros quadrados cada lote


# In[14]:


def calcularLucratividade(Matriz): #Calculando Lucro
    ListaLucro=[]
    i=0
    j=0
    
    while (i!=L):  #Enquanto tiver lote pra ler
        if(j==M): #se acabar as colunas (chegar no fim dos periodos), renicia a coluna e o lote
            j=0
            if (i<L-1): #reniciando o lote+1 se tiver espaço, caso contrario, acabou a matriz e termina
                i=i+1
            else:
                break
        planta = int(Matriz[i][j]) #Planta a ser calculada o lucro
        ciclos = int(CicloEmTi[planta-1]) #Quantos ciclos tem essa planta
        j= j+ciclos #contador do tempo eh igual o ciclo da planta + o tempo anterior
        if (j>M): #Maior que 23, se o tempo ultrapassar, renicia e vai pra outro lote
            j=0
            i=i+1
        else:
            lucro = (lucratividade[planta-1][j+1]*AreaDeUmLote)/20 #se nao ultrapassou, calcula o lucro naquele periodo * o tamanho do terreno
            ListaLucro.append(lucro) #salva em uma lista de lucros dessa matriz       
    return sum(ListaLucro) #soma todos os lucros da matriz, pra dar o lucro final da matriz


# In[15]:


ListaDeDeltas=[]
ListaDeT=[]
ListaDeFvAceitos=[]
lucroInicial=calcularLucratividade(ConstrucaoInicial)


# In[16]:


def SimulatedAnnealing(Tzero, Tfinal, Beta, SaMax,MatrizInicial):
    s=MatrizInicial.copy()
    iterT = 0
    T=Tzero
    lucroMelhorEncontrado=0
    global vizinhos #Variavel global, para sempre alterar a vizinhanca fora do escopo da funcao
    global ListaDeDeltas
    global ListaDeT
    global ListaDeAceitos
    
    while(T>Tfinal): #enquanto temperatura nao abaixou
        ListaDeT.append(T)
        while (iterT < SaMax): #SAMax eh o numero de lotes
            iterT = iterT + 1
            gerarVizinhanca(s)  #em torno de s
            v = random.choice(vizinhos).copy() #escolhe um vizinho aleatoriamente
            fs = calcularLucratividade(s) #calcula lucratividade do atual
            fv = calcularLucratividade(v) #calcula lucratividade do vizinho
            Delta = (fv - fs)/fv #Calcula o delta
            ListaDeDeltas.append(Delta) #insere num vetor para fins de relatorio
            if (Delta>0):#maximizacao 
                s=v.copy() #atual recebe o vizinho
                ListaDeFvAceitos.append(fv) #insere num vetor para fins de relatorio
                if(fv>lucroMelhorEncontrado): #Se for o maior lucro de todos, alem de aceitar, SALVA
                    lucroMelhorEncontrado=fv #lucro
                    melhorEncontrado=v            #matriz com esse lucro   
            else: #se nao for maior, aceita de acordo com a chance
                r = random.uniform(1, 2) #numero aleatorio entre 1 e 2 (a chance sempre eh maior que 1, dificilmente acima de 2)
                chance = (Delta*-1)/T #quanto maior Temperatura maior chance de aceitar
                chance = mpmath.exp(chance) #e neperiano elevado a chance, biblioteca cientifica
                if (r > chance): #se o r gerado aleatorio for maior que a chance
                    s=v.copy()    #aceitou
                    ListaDeFvAceitos.append(fv) #insere num vetor para fins de relatorio
        T= Beta * T #atualizando temperatura
        iterT=0
        s=melhorEncontrado
    
    ListaDeT.append(T) #insere num vetor para fins de relatorio
    print("Melhor: ",lucroMelhorEncontrado)
    return melhorEncontrado


# In[17]:


gerado = SimulatedAnnealing(1,0.0004,0.95,L,ConstrucaoInicial)
lucroFinal = calcularLucratividade(gerado)


# In[18]:


TamListaDeDeltas = len(ListaDeDeltas)
TamListaDeT = len(ListaDeT)
TamListaDeFvAceitos = len(ListaDeFvAceitos)


# In[19]:


RotacaoSA = pd.DataFrame(gerado, columns=['Janeiro', 'Fevereiro', 'Março', 'Abril', 'Maio', 'Junho', 'Julho', 'Agosto', 'Setembro', 'Outubro', 'Novembro', 'Dezembro', 'Janeiro', 'Fevereiro', 'Março', 'Abril', 'Maio', 'Junho', 'Julho', 'Agosto', 'Setembro', 'Outubro', 'Novembro', 'Dezembro'])
#Transformando em Excel:
RotacaoSA.to_excel("RotacaoConstruida_peloSA_FINAL.xlsx", sheet_name='Calendario', index = None, header=True)


# In[20]:


arquivo = open('RelatorioGerado.txt','w')
arquivo.write("Simulated Annealing \n")
arquivo.write("Lucro da construção inicial, gerada pelo algorítmo construtor: ")
arquivo.write(str(lucroInicial))
arquivo.write("\nLucro da construção final, gerada pelo Simulated Annealing: ")
arquivo.write(str(lucroFinal))
arquivo.write("\nQuantidade de Deltas calculados: ")
arquivo.write(str(TamListaDeDeltas))
arquivo.write("\n")
arquivo.write("Quantidade de Temperaturas usadas: ")
arquivo.write(str(TamListaDeT))
arquivo.write("\n")
arquivo.write("Quantidade de Funções objetivas aceitas: ")
arquivo.write(str(TamListaDeFvAceitos))
arquivo.write("\n")
arquivo.write("\n")
arquivo.write("Funções objetivas (F(s/v)) aceitas: \n\n",)
              
for i in range(TamListaDeFvAceitos):
    arquivo.write(str(ListaDeFvAceitos[i]))
    arquivo.write(", ")
    
arquivo.write("\n\nDeltas calculados: \n\n",)
              
for i in range(TamListaDeDeltas):
    arquivo.write(str(ListaDeDeltas[i]))
    arquivo.write(", ")
    
arquivo.write("\n\nTemperaturas usadas: \n\n",)
              
for i in range(TamListaDeT):
    arquivo.write(str(ListaDeT[i]))
    arquivo.write(", ")

arquivo.close()


# In[ ]:


print("Programa Executado com sucesso! Relatorios Gerados na pasta :D ")


# In[ ]:





# In[ ]:





# In[ ]:




