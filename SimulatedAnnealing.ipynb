{
 "cells": [
  {
   "cell_type": "code",
   "execution_count": 1,
   "metadata": {},
   "outputs": [],
   "source": [
    "import numpy as np\n",
    "from itertools import permutations\n",
    "from itertools import cycle\n",
    "from random import *\n",
    "import math\n",
    "import random\n",
    "import pandas as pd\n",
    "import math\n",
    "import mpmath as mpmath\n",
    "from mpmath import*\n",
    "import time"
   ]
  },
  {
   "cell_type": "code",
   "execution_count": 2,
   "metadata": {},
   "outputs": [],
   "source": [
    "inicio = time.time()\n",
    "Planilha = pd.ExcelFile('RotacaoCulturas.xlsx')\n",
    "TabelaCulturas = pd.read_excel(Planilha,  'Culturas')\n",
    "TabelaLucratividade = pd.read_excel(Planilha,  'Lucratividade')\n",
    "TabelaProdutividade = pd.read_excel(Planilha,  'Produtividade')"
   ]
  },
  {
   "cell_type": "code",
   "execution_count": 3,
   "metadata": {},
   "outputs": [],
   "source": [
    "L = 16 #Numero maximo de lotes definido no artigo\n",
    "M = 24 #Numero de periodos de plantio definido no artigo (2 anos)\n",
    "\n",
    "CulturaIndice = TabelaCulturas.CulturaIndice.to_numpy() #Transformando a Coluna da Planilha em Numpy Array\n",
    "FamiliaIndice = TabelaCulturas.FamiliaIndice.to_numpy() #Transformando a Coluna da Planilha em Numpy Array\n",
    "CicloEmTi = TabelaCulturas.CicloEmTi.to_numpy() #Transformando a Coluna da Planilha em Numpy Array\n",
    "Plantas = CulturaIndice[-1] #Total de Plantas na Planilha = Ultimo elemento do indice de Culturas\n",
    "Familias = FamiliaIndice[-1] #Total de Familias na Planilha = Ultimo elemento do indice de Familias\n",
    "vetorPlantasSorteado = np.array(CulturaIndice) #Indices das plantas\n",
    "InicioDaEpocaDePlantio = TabelaCulturas.InicioDaEpocaDePlantio.to_numpy() #Transformando a Coluna da Planilha em Numpy Array\n",
    "FimDaEpocaDePlantio = TabelaCulturas.FimDaEpocaDePlantio.to_numpy() #Transformando a Coluna da Planilha em Numpy Array"
   ]
  },
  {
   "cell_type": "code",
   "execution_count": 4,
   "metadata": {},
   "outputs": [],
   "source": [
    "def sorteio(l):  #Funcao sorteia um array, no caso serve pra sortear o array dos indices das plantas\n",
    "    random.shuffle(l)\n",
    "    #print(\"Vetor de Plantas sorteado: \", l)\n",
    "    return l"
   ]
  },
  {
   "cell_type": "code",
   "execution_count": 5,
   "metadata": {},
   "outputs": [],
   "source": [
    "def taNoCiclo(per,inicio,fim):  #Função para ver se o ciclo de uma planta (plantar e colher) cabe num lote\n",
    "    if (inicio<fim):\n",
    "        while (inicio<=fim):\n",
    "            if (inicio==per):\n",
    "                return 1\n",
    "            inicio=inicio+1\n",
    "        return 0 \n",
    "    if (inicio==fim):\n",
    "        if(per==inicio):\n",
    "            return 1     \n",
    "    if (inicio>fim):\n",
    "        while(inicio<12):\n",
    "            inicio=inicio+1\n",
    "            if(inicio==per):\n",
    "                return 1\n",
    "        inicio=1 \n",
    "        if (inicio==per):\n",
    "            return 1\n",
    "        if (inicio<fim):\n",
    "            while (inicio<=fim):\n",
    "                if (inicio==per):\n",
    "                    return 1\n",
    "                inicio=inicio+1\n",
    "    return 0"
   ]
  },
  {
   "cell_type": "code",
   "execution_count": 6,
   "metadata": {},
   "outputs": [],
   "source": [
    "def Construtor():  #Ao chamar essa função, retorna uma rotacao de culturas DE UMA LINHA(LOTE) que segue as seguintes regras:\n",
    "    cult1 = [] #Vetor para auxiliar na função de construção\n",
    "    tempo1 = [] #Vetor para auxiliar na função de construção\n",
    "    fam1=[] #Vetor para auxiliar na função de construção\n",
    "    cult3 = np.zeros((L, M)) #Vetor para auxiliar na função de construção\n",
    "    sorteio(vetorPlantasSorteado)  #Plantas de Familia nao se repetem na mesma linha (Lote)\n",
    "    PER = 1 #Plantas só são plantadas em seu período de plantio\n",
    "    dif=M #Planta só é plantada se seu tempo de plantio é respeitado ex: dura 3 meses pra colher, tem que ter 3 slots em branco\n",
    "    vetorCircular = cycle(range(Plantas))   #uso de um vetor circular aleatorio das Plantas\n",
    "    while(dif>0):\n",
    "        for i in vetorCircular:\n",
    "            x = vetorPlantasSorteado[i]\n",
    "            y = InicioDaEpocaDePlantio[x-1]\n",
    "            z = FimDaEpocaDePlantio[x-1]\n",
    "            g = CicloEmTi[x-1]\n",
    "            f = FamiliaIndice[x-1]\n",
    "            PER=PER%12\n",
    "            if(PER==0):\n",
    "                PER=12\n",
    "            w = taNoCiclo(PER, y, z)\n",
    "            if (w==1):\n",
    "                if (g<=dif):  \n",
    "                    cult1.append(x)\n",
    "                    tempo1.append(g)\n",
    "                    fam1.append(f)\n",
    "                    verifica=len(fam1)\n",
    "                    if ((verifica>1) and (fam1[verifica-1]==fam1[verifica-2])): #se sao familias diferentes\n",
    "                        if(fam1[verifica-1]!=11):\n",
    "                            cult1.pop(verifica-1)\n",
    "                            tempo1.pop(verifica-1)\n",
    "                            fam1.pop(verifica-1)\n",
    "                            break\n",
    "                    dif = dif-g\n",
    "                    PER=PER+g \n",
    "                    break\n",
    "                else:\n",
    "                    break\n",
    "    cult2=np.array(cult1)\n",
    "    tempo2=np.array(tempo1)\n",
    "    cult3=np.repeat(cult2, tempo2)  \n",
    "    return cult3"
   ]
  },
  {
   "cell_type": "code",
   "execution_count": 7,
   "metadata": {},
   "outputs": [],
   "source": [
    "ConstrucaoInicial = np.zeros((L, M)) #Criacao de uma matriz, com L Lotes (linhas) e M colunas (periodos)\n",
    "ConstrucaoDeLote=Construtor() #Constroi um Lote seguindo as regras mencionadas anteriormente\n",
    "\n",
    "#Agora construir varias linhas que seguem as regras, pra formar uma Matriz Completa de Rotacao de Culturas\n",
    "for i in range(L):\n",
    "    for j in range(M):\n",
    "        ConstrucaoInicial[i,j]=ConstrucaoDeLote[j]\n",
    "    cult1 = []\n",
    "    tempo1 = []\n",
    "    fam1=[]\n",
    "    ConstrucaoDeLote=Construtor()"
   ]
  },
  {
   "cell_type": "code",
   "execution_count": 8,
   "metadata": {},
   "outputs": [],
   "source": [
    "#Transformando em DataFrame\n",
    "RotacaoCulturasConstruida = pd.DataFrame(ConstrucaoInicial, columns=['Janeiro', 'Fevereiro', 'Março', 'Abril', 'Maio', 'Junho', 'Julho', 'Agosto', 'Setembro', 'Outubro', 'Novembro', 'Dezembro', 'Janeiro', 'Fevereiro', 'Março', 'Abril', 'Maio', 'Junho', 'Julho', 'Agosto', 'Setembro', 'Outubro', 'Novembro', 'Dezembro'])\n",
    "#Transformando em Excel:\n",
    "RotacaoCulturasConstruida.to_excel(\"algoritmoConstrutor.xlsx\", sheet_name='Calendario', index = None, header=True)"
   ]
  },
  {
   "cell_type": "code",
   "execution_count": 9,
   "metadata": {},
   "outputs": [],
   "source": [
    "def gerarVizinhanca(Matriz):\n",
    "    global vizinho1\n",
    "    global vizinho2\n",
    "    global vizinho3\n",
    "    global vizinho4\n",
    "    global vizinho5\n",
    "    global vizinho6\n",
    "    global vizinho7\n",
    "    global vizinho8\n",
    "    global vizinho9\n",
    "    global vizinho10\n",
    "    global vizinho11\n",
    "    global vizinho12\n",
    "    global vizinho13\n",
    "    global vizinho14\n",
    "    global vizinho15\n",
    "    global vizinho16\n",
    "    global vizinhos\n",
    "    \n",
    "    vizinho1 = np.array(Matriz)\n",
    "    vizinho2 = np.array(Matriz)\n",
    "    vizinho3 = np.array(Matriz)\n",
    "    vizinho4 = np.array(Matriz)\n",
    "    vizinho5 = np.array(Matriz)\n",
    "    vizinho6 = np.array(Matriz)\n",
    "    vizinho7 = np.array(Matriz)\n",
    "    vizinho8 = np.array(Matriz)\n",
    "    vizinho9 = np.array(Matriz)\n",
    "    vizinho10 = np.array(Matriz)\n",
    "    vizinho11 = np.array(Matriz)\n",
    "    vizinho12 = np.array(Matriz)\n",
    "    vizinho13 = np.array(Matriz)\n",
    "    vizinho14 = np.array(Matriz)\n",
    "    vizinho15 = np.array(Matriz)\n",
    "    vizinho16 = np.array(Matriz)\n",
    "    \n",
    "    vizinhos = [vizinho1, vizinho2, vizinho3, vizinho4, vizinho5, vizinho6, vizinho7, vizinho8, vizinho9, vizinho10, vizinho11, vizinho12, vizinho13, vizinho14, vizinho15, vizinho16]\n",
    "    \n",
    "    i=0\n",
    "    j=0\n",
    "    \n",
    "    for vizinho in vizinhos:\n",
    "        ConstrucaoDeLote=Construtor()\n",
    "        for j in range(M):\n",
    "            vizinho[i,j]=ConstrucaoDeLote[j]\n",
    "        i=i+1"
   ]
  },
  {
   "cell_type": "code",
   "execution_count": 10,
   "metadata": {},
   "outputs": [],
   "source": [
    "gerarVizinhanca(ConstrucaoInicial)"
   ]
  },
  {
   "cell_type": "code",
   "execution_count": 11,
   "metadata": {},
   "outputs": [],
   "source": [
    "#Transformando os Vizinhos em DataFrame pra depois poder por na planilha excel:\n",
    "#Isto só serve pra conferir a vizinhanca inicial da matriz construida!\n",
    "Vizinho1 = pd.DataFrame(vizinho1, columns=['Janeiro', 'Fevereiro', 'Março', 'Abril', 'Maio', 'Junho', 'Julho', 'Agosto', 'Setembro', 'Outubro', 'Novembro', 'Dezembro', 'Janeiro', 'Fevereiro', 'Março', 'Abril', 'Maio', 'Junho', 'Julho', 'Agosto', 'Setembro', 'Outubro', 'Novembro', 'Dezembro'])\n",
    "Vizinho2 = pd.DataFrame(vizinho2, columns=['Janeiro', 'Fevereiro', 'Março', 'Abril', 'Maio', 'Junho', 'Julho', 'Agosto', 'Setembro', 'Outubro', 'Novembro', 'Dezembro', 'Janeiro', 'Fevereiro', 'Março', 'Abril', 'Maio', 'Junho', 'Julho', 'Agosto', 'Setembro', 'Outubro', 'Novembro', 'Dezembro'])\n",
    "Vizinho3 = pd.DataFrame(vizinho3, columns=['Janeiro', 'Fevereiro', 'Março', 'Abril', 'Maio', 'Junho', 'Julho', 'Agosto', 'Setembro', 'Outubro', 'Novembro', 'Dezembro', 'Janeiro', 'Fevereiro', 'Março', 'Abril', 'Maio', 'Junho', 'Julho', 'Agosto', 'Setembro', 'Outubro', 'Novembro', 'Dezembro'])\n",
    "Vizinho4 = pd.DataFrame(vizinho4, columns=['Janeiro', 'Fevereiro', 'Março', 'Abril', 'Maio', 'Junho', 'Julho', 'Agosto', 'Setembro', 'Outubro', 'Novembro', 'Dezembro', 'Janeiro', 'Fevereiro', 'Março', 'Abril', 'Maio', 'Junho', 'Julho', 'Agosto', 'Setembro', 'Outubro', 'Novembro', 'Dezembro'])\n",
    "Vizinho5 = pd.DataFrame(vizinho5, columns=['Janeiro', 'Fevereiro', 'Março', 'Abril', 'Maio', 'Junho', 'Julho', 'Agosto', 'Setembro', 'Outubro', 'Novembro', 'Dezembro', 'Janeiro', 'Fevereiro', 'Março', 'Abril', 'Maio', 'Junho', 'Julho', 'Agosto', 'Setembro', 'Outubro', 'Novembro', 'Dezembro'])\n",
    "Vizinho6 = pd.DataFrame(vizinho6, columns=['Janeiro', 'Fevereiro', 'Março', 'Abril', 'Maio', 'Junho', 'Julho', 'Agosto', 'Setembro', 'Outubro', 'Novembro', 'Dezembro', 'Janeiro', 'Fevereiro', 'Março', 'Abril', 'Maio', 'Junho', 'Julho', 'Agosto', 'Setembro', 'Outubro', 'Novembro', 'Dezembro'])\n",
    "Vizinho7 = pd.DataFrame(vizinho7, columns=['Janeiro', 'Fevereiro', 'Março', 'Abril', 'Maio', 'Junho', 'Julho', 'Agosto', 'Setembro', 'Outubro', 'Novembro', 'Dezembro', 'Janeiro', 'Fevereiro', 'Março', 'Abril', 'Maio', 'Junho', 'Julho', 'Agosto', 'Setembro', 'Outubro', 'Novembro', 'Dezembro'])\n",
    "Vizinho8 = pd.DataFrame(vizinho8, columns=['Janeiro', 'Fevereiro', 'Março', 'Abril', 'Maio', 'Junho', 'Julho', 'Agosto', 'Setembro', 'Outubro', 'Novembro', 'Dezembro', 'Janeiro', 'Fevereiro', 'Março', 'Abril', 'Maio', 'Junho', 'Julho', 'Agosto', 'Setembro', 'Outubro', 'Novembro', 'Dezembro'])\n",
    "Vizinho9 = pd.DataFrame(vizinho9, columns=['Janeiro', 'Fevereiro', 'Março', 'Abril', 'Maio', 'Junho', 'Julho', 'Agosto', 'Setembro', 'Outubro', 'Novembro', 'Dezembro', 'Janeiro', 'Fevereiro', 'Março', 'Abril', 'Maio', 'Junho', 'Julho', 'Agosto', 'Setembro', 'Outubro', 'Novembro', 'Dezembro'])\n",
    "Vizinho10 = pd.DataFrame(vizinho10, columns=['Janeiro', 'Fevereiro', 'Março', 'Abril', 'Maio', 'Junho', 'Julho', 'Agosto', 'Setembro', 'Outubro', 'Novembro', 'Dezembro', 'Janeiro', 'Fevereiro', 'Março', 'Abril', 'Maio', 'Junho', 'Julho', 'Agosto', 'Setembro', 'Outubro', 'Novembro', 'Dezembro'])\n",
    "Vizinho11 = pd.DataFrame(vizinho11, columns=['Janeiro', 'Fevereiro', 'Março', 'Abril', 'Maio', 'Junho', 'Julho', 'Agosto', 'Setembro', 'Outubro', 'Novembro', 'Dezembro', 'Janeiro', 'Fevereiro', 'Março', 'Abril', 'Maio', 'Junho', 'Julho', 'Agosto', 'Setembro', 'Outubro', 'Novembro', 'Dezembro'])\n",
    "Vizinho12 = pd.DataFrame(vizinho12, columns=['Janeiro', 'Fevereiro', 'Março', 'Abril', 'Maio', 'Junho', 'Julho', 'Agosto', 'Setembro', 'Outubro', 'Novembro', 'Dezembro', 'Janeiro', 'Fevereiro', 'Março', 'Abril', 'Maio', 'Junho', 'Julho', 'Agosto', 'Setembro', 'Outubro', 'Novembro', 'Dezembro'])\n",
    "Vizinho13 = pd.DataFrame(vizinho13, columns=['Janeiro', 'Fevereiro', 'Março', 'Abril', 'Maio', 'Junho', 'Julho', 'Agosto', 'Setembro', 'Outubro', 'Novembro', 'Dezembro', 'Janeiro', 'Fevereiro', 'Março', 'Abril', 'Maio', 'Junho', 'Julho', 'Agosto', 'Setembro', 'Outubro', 'Novembro', 'Dezembro'])\n",
    "Vizinho14 = pd.DataFrame(vizinho14, columns=['Janeiro', 'Fevereiro', 'Março', 'Abril', 'Maio', 'Junho', 'Julho', 'Agosto', 'Setembro', 'Outubro', 'Novembro', 'Dezembro', 'Janeiro', 'Fevereiro', 'Março', 'Abril', 'Maio', 'Junho', 'Julho', 'Agosto', 'Setembro', 'Outubro', 'Novembro', 'Dezembro'])\n",
    "Vizinho15 = pd.DataFrame(vizinho15, columns=['Janeiro', 'Fevereiro', 'Março', 'Abril', 'Maio', 'Junho', 'Julho', 'Agosto', 'Setembro', 'Outubro', 'Novembro', 'Dezembro', 'Janeiro', 'Fevereiro', 'Março', 'Abril', 'Maio', 'Junho', 'Julho', 'Agosto', 'Setembro', 'Outubro', 'Novembro', 'Dezembro'])\n",
    "Vizinho16 = pd.DataFrame(vizinho16, columns=['Janeiro', 'Fevereiro', 'Março', 'Abril', 'Maio', 'Junho', 'Julho', 'Agosto', 'Setembro', 'Outubro', 'Novembro', 'Dezembro', 'Janeiro', 'Fevereiro', 'Março', 'Abril', 'Maio', 'Junho', 'Julho', 'Agosto', 'Setembro', 'Outubro', 'Novembro', 'Dezembro'])\n"
   ]
  },
  {
   "cell_type": "code",
   "execution_count": 12,
   "metadata": {},
   "outputs": [],
   "source": [
    "#Isto só serve pra conferir a vizinhanca inicial da matriz construida!\n",
    "with pd.ExcelWriter('Vizinhanca_do_ConstrutorInicial.xlsx') as writer:  # Gerando Excel\n",
    "    RotacaoCulturasConstruida.to_excel(writer, sheet_name='Construcao', index = None, header=True)\n",
    "    Vizinho1.to_excel(writer, sheet_name='Vizinhanca-1', index = None, header=True)\n",
    "    Vizinho2.to_excel(writer, sheet_name='Vizinhanca-2', index = None, header=True)\n",
    "    Vizinho3.to_excel(writer, sheet_name='Vizinhanca-3', index = None, header=True)\n",
    "    Vizinho4.to_excel(writer, sheet_name='Vizinhanca-4', index = None, header=True)\n",
    "    Vizinho5.to_excel(writer, sheet_name='Vizinhanca-5', index = None, header=True)\n",
    "    Vizinho6.to_excel(writer, sheet_name='Vizinhanca-6', index = None, header=True)\n",
    "    Vizinho7.to_excel(writer, sheet_name='Vizinhanca-7', index = None, header=True)\n",
    "    Vizinho8.to_excel(writer, sheet_name='Vizinhanca-8', index = None, header=True)\n",
    "    Vizinho9.to_excel(writer, sheet_name='Vizinhanca-9', index = None, header=True)\n",
    "    Vizinho10.to_excel(writer, sheet_name='Vizinhanca-10', index = None, header=True)\n",
    "    Vizinho11.to_excel(writer, sheet_name='Vizinhanca-11', index = None, header=True)\n",
    "    Vizinho12.to_excel(writer, sheet_name='Vizinhanca-12', index = None, header=True)\n",
    "    Vizinho13.to_excel(writer, sheet_name='Vizinhanca-13', index = None, header=True)\n",
    "    Vizinho14.to_excel(writer, sheet_name='Vizinhanca-14', index = None, header=True)\n",
    "    Vizinho15.to_excel(writer, sheet_name='Vizinhanca-15', index = None, header=True)\n",
    "    Vizinho16.to_excel(writer, sheet_name='Vizinhanca-16', index = None, header=True)"
   ]
  },
  {
   "cell_type": "code",
   "execution_count": 13,
   "metadata": {},
   "outputs": [],
   "source": [
    "lucratividade = TabelaLucratividade.values\n",
    "terrenoTotal = 80 #MetrosQuadrados\n",
    "AreaDeUmLote = (terrenoTotal/L) #80/16=5 Metros quadrados cada lote"
   ]
  },
  {
   "cell_type": "code",
   "execution_count": 14,
   "metadata": {},
   "outputs": [],
   "source": [
    "def Penalidade(Matriz):\n",
    "    MatrizFamilia=Matriz.copy()\n",
    "    for i in range(L): #Transformar matriz Plantas em Matriz Familia da Planta\n",
    "        for j in range(M):\n",
    "            IndicePlanta = int(Matriz[i][j])\n",
    "            MatrizFamilia[i][j] = FamiliaIndice[IndicePlanta-1]\n",
    "    #Transformou em Matriz de Familias\n",
    "    #Verificar PV = Penalizacao Lotes Vizinhos\n",
    "    PV=0\n",
    "    #Verificar PAV = Penalizacao por não ter Adubação Verde\n",
    "    PAV=0\n",
    "    contadorLeguminosa = 0 #Auxiliar\n",
    "    #Verificar PP = Penalizacao por não ter Pousio\n",
    "    PP=0  \n",
    "    contadorPousio = 0\n",
    "    for i in range(L): \n",
    "        for j in range(M):\n",
    "            if (i>1) and (MatrizFamilia[i][j] == MatrizFamilia[i-1][j-1]): #PV\n",
    "                PV = PV+1\n",
    "            if (MatrizFamilia[i][j] == 10): #Se a matriz tiver uma leguminosa no Lote, adiciona no contador\n",
    "                contadorLeguminosa = contadorLeguminosa+1\n",
    "            if (MatrizFamilia[i][j] == 11): #Se a matriz tiver Pousio no Lote, adiciona no contador\n",
    "                contadorPousio = contadorPousio+1\n",
    "        if (contadorLeguminosa==0): #Se em um lote não teve leguminosa, penaliza +1\n",
    "            PAV=PAV+1\n",
    "        contadorLeguminosa = 0 #Renicializa o contador, para ver se o proximo lote tem leguminosa\n",
    "        if (contadorPousio==0): #Se em um lote não tiver pousio, penaliza +1\n",
    "            PP=PP+1\n",
    "        contadorPousio = 0 #Renicializa o contador, para ver se o proximo lote tem pousio\n",
    "    \n",
    "    return (PV+PAV+PP) #Somatorio das Penalidades\n",
    "    \n",
    "    "
   ]
  },
  {
   "cell_type": "code",
   "execution_count": 15,
   "metadata": {},
   "outputs": [],
   "source": [
    "def calcularLucratividade(Matriz): #Calculando Lucro\n",
    "    ListaLucro=[]\n",
    "    i=0\n",
    "    j=0\n",
    "    \n",
    "    while (i!=L):  #Enquanto tiver lote pra ler\n",
    "        if(j==M): #se acabar as colunas (chegar no fim dos periodos), renicia a coluna e o lote\n",
    "            j=0\n",
    "            if (i<L-1): #reniciando o lote+1 se tiver espaço, caso contrario, acabou a matriz e termina\n",
    "                i=i+1\n",
    "            else:\n",
    "                break\n",
    "        planta = int(Matriz[i][j]) #Planta a ser calculada o lucro\n",
    "        ciclos = int(CicloEmTi[planta-1]) #Quantos ciclos tem essa planta\n",
    "        j= j+ciclos #contador do tempo eh igual o ciclo da planta + o tempo anterior\n",
    "        if (j>M): #Maior que 23, se o tempo ultrapassar, renicia e vai pra outro lote\n",
    "            j=0\n",
    "            i=i+1\n",
    "        else:\n",
    "            lucro = (lucratividade[planta-1][j+1]*AreaDeUmLote) #se nao ultrapassou, calcula o lucro naquele periodo * o tamanho do terreno\n",
    "            ListaLucro.append(lucro) #salva em uma lista de lucros dessa matriz       \n",
    "    \n",
    "    lucroFinal = sum(ListaLucro) #soma todos os lucros da matriz\n",
    "    penalidade = Penalidade(Matriz.copy()) #calcula a Penalidade da matriz\n",
    "    k = 10 #Constante de penalizacao apresentada no artigo, quanto maior mais rigorosa, menor mais branda\n",
    "    penalidade = (penalidade*-1)/k\n",
    "    penalidade = mpmath.exp(penalidade) #e elevado a -penalidade/k = 0,1 por exemplo\n",
    "    lucroFinal = int(lucroFinal*penalidade) #O lucro da matriz final eh o lucro dela vezes a penalidade\n",
    "    return lucroFinal"
   ]
  },
  {
   "cell_type": "code",
   "execution_count": 16,
   "metadata": {},
   "outputs": [],
   "source": [
    "ListaDeDeltas=[]\n",
    "ListaDeT=[]\n",
    "ListaDeFvAceitos=[]\n",
    "lucroInicial=calcularLucratividade(ConstrucaoInicial)"
   ]
  },
  {
   "cell_type": "code",
   "execution_count": 17,
   "metadata": {},
   "outputs": [],
   "source": [
    "def SimulatedAnnealing(Tzero, Tfinal, Beta, SaMax,MatrizInicial):\n",
    "    s=MatrizInicial.copy()\n",
    "    iterT = 0\n",
    "    T=Tzero\n",
    "    lucroMelhorEncontrado=0\n",
    "    global vizinhos #Variavel global, para sempre alterar a vizinhanca fora do escopo da funcao\n",
    "    global ListaDeDeltas\n",
    "    global ListaDeT\n",
    "    global ListaDeAceitos\n",
    "    \n",
    "    while(T>Tfinal): #enquanto temperatura nao abaixou\n",
    "        ListaDeT.append(T)\n",
    "        while (iterT < SaMax): #SAMax eh o numero de lotes\n",
    "            iterT = iterT + 1\n",
    "            gerarVizinhanca(s)  #em torno de s\n",
    "            v = random.choice(vizinhos).copy() #escolhe um vizinho aleatoriamente\n",
    "            fs = calcularLucratividade(s) #calcula lucratividade do atual\n",
    "            fv = calcularLucratividade(v) #calcula lucratividade do vizinho\n",
    "            Delta = (fv - fs)#Calcula o delta, (fv-fs/fv) usando biblioteca mpmath\n",
    "            if (fv!=0): #se fv for zero da erro, pois fica 0/0\n",
    "                Delta = fdiv(Delta,fv)      \n",
    "            ListaDeDeltas.append(Delta) #insere num vetor para fins de relatorio\n",
    "            if (Delta>0):#maximizacao \n",
    "                s=v.copy() #atual recebe o vizinho\n",
    "                ListaDeFvAceitos.append(fv) #insere num vetor para fins de relatorio\n",
    "                if(fv>lucroMelhorEncontrado): #Se for o maior lucro de todos, alem de aceitar, SALVA\n",
    "                    lucroMelhorEncontrado=fv #lucro\n",
    "                    melhorEncontrado=v        #matriz com esse lucro   \n",
    "            else: #se nao for maior, aceita de acordo com a chance\n",
    "                r = random.uniform(1, 2) #numero aleatorio entre 1 e 2 (a chance sempre eh maior que 1, dificilmente acima de 2)\n",
    "                chance = (Delta*-1)/T #quanto maior Temperatura maior chance de aceitar\n",
    "                chance = mpmath.exp(chance) #e neperiano elevado a chance, biblioteca cientifica\n",
    "                if (r > chance): #se o r gerado aleatorio for maior que a chance\n",
    "                    s=v.copy()    #aceitou\n",
    "                    ListaDeFvAceitos.append(fv) #insere num vetor para fins de relatorio\n",
    "        T= Beta * T #atualizando temperatura\n",
    "        iterT=0\n",
    "        s=melhorEncontrado\n",
    "    \n",
    "    ListaDeT.append(T) #insere num vetor para fins de relatorio\n",
    "    print(\"Lucro Encontrado Inicialmente: \", lucroInicial)\n",
    "    print(\"Melhor Encontrado pelo SA: \",lucroMelhorEncontrado)\n",
    "    return melhorEncontrado"
   ]
  },
  {
   "cell_type": "code",
   "execution_count": 18,
   "metadata": {},
   "outputs": [
    {
     "name": "stdout",
     "output_type": "stream",
     "text": [
      "Lucro Encontrado Inicialmente:  1\n",
      "Melhor Encontrado pelo SA:  3460\n"
     ]
    }
   ],
   "source": [
    "#gerado = SimulatedAnnealing(1,0.0001,0.95,L,ConstrucaoInicial)\n",
    "gerado = SimulatedAnnealing(10,0.00001,0.95,L,ConstrucaoInicial)\n",
    "#gerado = SimulatedAnnealing(100,0.00000001,0.99,L,ConstrucaoInicial)\n",
    "lucroFinal = calcularLucratividade(gerado)"
   ]
  },
  {
   "cell_type": "code",
   "execution_count": 19,
   "metadata": {},
   "outputs": [],
   "source": [
    "TamListaDeDeltas = len(ListaDeDeltas)\n",
    "TamListaDeT = len(ListaDeT)\n",
    "TamListaDeFvAceitos = len(ListaDeFvAceitos)"
   ]
  },
  {
   "cell_type": "code",
   "execution_count": 20,
   "metadata": {},
   "outputs": [],
   "source": [
    "RotacaoSA = pd.DataFrame(gerado, columns=['Janeiro', 'Fevereiro', 'Março', 'Abril', 'Maio', 'Junho', 'Julho', 'Agosto', 'Setembro', 'Outubro', 'Novembro', 'Dezembro', 'Janeiro', 'Fevereiro', 'Março', 'Abril', 'Maio', 'Junho', 'Julho', 'Agosto', 'Setembro', 'Outubro', 'Novembro', 'Dezembro'])\n",
    "#Transformando em Excel:\n",
    "RotacaoSA.to_excel(\"RotacaoConstruida_peloSA_FINAL.xlsx\", sheet_name='Calendario', index = None, header=True)\n",
    "fim = time.time()\n",
    "tempoDeExecucao = fim - inicio"
   ]
  },
  {
   "cell_type": "code",
   "execution_count": 21,
   "metadata": {},
   "outputs": [],
   "source": [
    "arquivo = open('RelatorioGerado.txt','w')\n",
    "arquivo.write(\"Simulated Annealing \\n\")\n",
    "arquivo.write(\"\\nTempo de Execução: \")\n",
    "arquivo.write(str(tempoDeExecucao))\n",
    "arquivo.write(\"\\nLucro da construção inicial, gerada pelo algorítmo construtor: \")\n",
    "arquivo.write(str(lucroInicial))\n",
    "arquivo.write(\"\\nLucro da construção final, gerada pelo Simulated Annealing: \")\n",
    "arquivo.write(str(lucroFinal))\n",
    "arquivo.write(\"\\nQuantidade de Deltas calculados: \")\n",
    "arquivo.write(str(TamListaDeDeltas))\n",
    "arquivo.write(\"\\n\")\n",
    "arquivo.write(\"Quantidade de Temperaturas usadas: \")\n",
    "arquivo.write(str(TamListaDeT))\n",
    "arquivo.write(\"\\n\")\n",
    "arquivo.write(\"Quantidade de Funções objetivas aceitas: \")\n",
    "arquivo.write(str(TamListaDeFvAceitos))\n",
    "arquivo.write(\"\\n\")\n",
    "arquivo.write(\"\\n\")\n",
    "arquivo.write(\"Funções objetivas (F(s/v)) aceitas: \\n\\n\",)\n",
    "              \n",
    "for i in range(TamListaDeFvAceitos):\n",
    "    arquivo.write(str(ListaDeFvAceitos[i]))\n",
    "    arquivo.write(\", \")\n",
    "    \n",
    "arquivo.write(\"\\n\\nDeltas calculados: \\n\\n\",)\n",
    "              \n",
    "for i in range(TamListaDeDeltas):\n",
    "    arquivo.write(str(ListaDeDeltas[i]))\n",
    "    arquivo.write(\", \")\n",
    "    \n",
    "arquivo.write(\"\\n\\nTemperaturas usadas: \\n\\n\",)\n",
    "              \n",
    "for i in range(TamListaDeT):\n",
    "    arquivo.write(str(ListaDeT[i]))\n",
    "    arquivo.write(\", \")\n",
    "\n",
    "arquivo.close()"
   ]
  },
  {
   "cell_type": "code",
   "execution_count": 22,
   "metadata": {},
   "outputs": [
    {
     "name": "stdout",
     "output_type": "stream",
     "text": [
      "Programa Executado com sucesso! Relatorios Gerados na pasta :D \n",
      "Tempo de Execução:  17.295934915542603\n"
     ]
    }
   ],
   "source": [
    "print(\"Programa Executado com sucesso! Relatorios Gerados na pasta :D \")\n",
    "print(\"Tempo de Execução: \", tempoDeExecucao)"
   ]
  },
  {
   "cell_type": "code",
   "execution_count": null,
   "metadata": {},
   "outputs": [],
   "source": []
  },
  {
   "cell_type": "code",
   "execution_count": null,
   "metadata": {
    "scrolled": true
   },
   "outputs": [],
   "source": []
  },
  {
   "cell_type": "code",
   "execution_count": null,
   "metadata": {},
   "outputs": [],
   "source": []
  },
  {
   "cell_type": "code",
   "execution_count": null,
   "metadata": {},
   "outputs": [],
   "source": []
  },
  {
   "cell_type": "code",
   "execution_count": null,
   "metadata": {},
   "outputs": [],
   "source": [
    "\n"
   ]
  },
  {
   "cell_type": "code",
   "execution_count": null,
   "metadata": {},
   "outputs": [],
   "source": []
  }
 ],
 "metadata": {
  "kernelspec": {
   "display_name": "Python 3",
   "language": "python",
   "name": "python3"
  },
  "language_info": {
   "codemirror_mode": {
    "name": "ipython",
    "version": 3
   },
   "file_extension": ".py",
   "mimetype": "text/x-python",
   "name": "python",
   "nbconvert_exporter": "python",
   "pygments_lexer": "ipython3",
   "version": "3.7.3"
  }
 },
 "nbformat": 4,
 "nbformat_minor": 2
}
