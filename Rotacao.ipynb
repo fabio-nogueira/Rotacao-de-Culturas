{
 "cells": [
  {
   "cell_type": "code",
   "execution_count": 1,
   "metadata": {},
   "outputs": [],
   "source": [
    "import numpy as np\n",
    "from itertools import permutations\n",
    "from random import *\n",
    "import math\n",
    "import random"
   ]
  },
  {
   "cell_type": "code",
   "execution_count": 2,
   "metadata": {},
   "outputs": [
    {
     "name": "stdout",
     "output_type": "stream",
     "text": [
      "Lotes L = 5\n",
      "Periodos M = 10\n",
      "Tipos de plantas diferentes = 7\n",
      "Array das Plantas + Pousio:  [0, 1, 2, 3, 4, 5, 6]\n"
     ]
    }
   ],
   "source": [
    "L = 5 #Numero máximo de lotes\n",
    "print(\"Lotes L =\", L)\n",
    "M = 10 #Numero de periodos\n",
    "print(\"Periodos M =\", M)\n",
    "Plantas = 7 #4 Culturas sendo plantadas\n",
    "print(\"Tipos de plantas diferentes =\", Plantas)\n",
    "vetorPlantas = [0,1,2,3,4,5,6]\n",
    "print(\"Array das Plantas + Pousio: \", vetorPlantas)"
   ]
  },
  {
   "cell_type": "code",
   "execution_count": 3,
   "metadata": {},
   "outputs": [],
   "source": [
    "def sorteio(l):\n",
    "    random.shuffle(l)\n",
    "    #print(\"Vetor de Plantas sorteado: \", l)\n",
    "    return l"
   ]
  },
  {
   "cell_type": "code",
   "execution_count": 4,
   "metadata": {},
   "outputs": [],
   "source": [
    "#Contador de repeticoes:\n",
    "def contador():\n",
    "    c=[]\n",
    "    for i in range(Plantas):\n",
    "        if ((vetorPlantas[i]==0) or (vetorPlantas[i]==1) or (vetorPlantas[i]==2) or (vetorPlantas[i]==3)):\n",
    "            c.append(2)\n",
    "        if ((vetorPlantas[i]==4) or (vetorPlantas[i]==5) or (vetorPlantas[i]==6)):\n",
    "            c.append(4)\n",
    "    #print(\"Numero de meses que fica plantado: \",c)\n",
    "    c2 = np.array(c)\n",
    "    return c2"
   ]
  },
  {
   "cell_type": "code",
   "execution_count": 5,
   "metadata": {},
   "outputs": [],
   "source": [
    "#Obtendo o construtor:\n",
    "def construtor():\n",
    "    teste = 0 \n",
    "    while (teste == 0):\n",
    "        sorteio(vetorPlantas)\n",
    "        c = contador()\n",
    "        construtor = np.repeat(vetorPlantas, c)\n",
    "        if (construtor[M-1] != construtor[M]):  #se o tempo de plantacao cabe na linha\n",
    "            #print(\"Vetor Final: \",construtor)\n",
    "            teste = 1\n",
    "    return construtor    "
   ]
  },
  {
   "cell_type": "code",
   "execution_count": 6,
   "metadata": {},
   "outputs": [],
   "source": [
    "#Definindo se um vetor pode ocupar o Lote:\n",
    "Cult = np.zeros((L, M))\n",
    "constr = construtor()\n",
    "for i in range(L):\n",
    "    for j in range(M):\n",
    "        Cult[i,j]=constr[j]\n",
    "    constr = construtor()\n",
    "\n"
   ]
  },
  {
   "cell_type": "code",
   "execution_count": 7,
   "metadata": {},
   "outputs": [
    {
     "name": "stdout",
     "output_type": "stream",
     "text": [
      "[[4. 4. 4. 4. 0. 0. 1. 1. 3. 3.]\n",
      " [1. 1. 6. 6. 6. 6. 4. 4. 4. 4.]\n",
      " [5. 5. 5. 5. 3. 3. 2. 2. 1. 1.]\n",
      " [2. 2. 0. 0. 3. 3. 4. 4. 4. 4.]\n",
      " [6. 6. 6. 6. 2. 2. 0. 0. 1. 1.]]\n"
     ]
    }
   ],
   "source": [
    "print (Cult)"
   ]
  },
  {
   "cell_type": "code",
   "execution_count": 8,
   "metadata": {},
   "outputs": [],
   "source": [
    "# TEMPO=2: 1= feijão(Leguminosa), 2= Alface, 3= Brócolis\n",
    "# TEMPO=4: 4=Espinafre 5= Arroz 6= Soja\n",
    "# 0 = Pousio \n",
    "# (Chutando os nomes)"
   ]
  },
  {
   "cell_type": "code",
   "execution_count": 9,
   "metadata": {},
   "outputs": [],
   "source": [
    "#BUSCA DA VIZINHANÇA\n",
    "#Vizinhança = S-1 Linha. Ou seja, a solução achada no método construtor, com uma linha sendo substituida\n",
    "#Como L = 5, Tem 5 vizinhancas\n",
    "V1 = Cult\n",
    "V2 = Cult\n",
    "V3 = Cult\n",
    "V4 = Cult\n",
    "V5 = Cult"
   ]
  },
  {
   "cell_type": "code",
   "execution_count": 10,
   "metadata": {},
   "outputs": [
    {
     "name": "stdout",
     "output_type": "stream",
     "text": [
      "[2 2 3 3 6 6 6 6 0 0 4 4 4 4 5 5 5 5 1 1]\n",
      "[6 6 6 6 3 3 2 2 0 0 4 4 4 4 1 1 5 5 5 5]\n",
      "Matriz Construida: \n",
      " [[2. 2. 3. 3. 6. 6. 6. 6. 0. 0.]\n",
      " [6. 6. 6. 6. 0. 0. 5. 5. 5. 5.]\n",
      " [4. 4. 4. 4. 6. 6. 6. 6. 2. 2.]\n",
      " [0. 0. 1. 1. 4. 4. 4. 4. 3. 3.]\n",
      " [6. 6. 6. 6. 3. 3. 2. 2. 0. 0.]]\n",
      "Vizinho 1 = \n",
      " [[2. 2. 3. 3. 6. 6. 6. 6. 0. 0.]\n",
      " [6. 6. 6. 6. 0. 0. 5. 5. 5. 5.]\n",
      " [4. 4. 4. 4. 6. 6. 6. 6. 2. 2.]\n",
      " [0. 0. 1. 1. 4. 4. 4. 4. 3. 3.]\n",
      " [6. 6. 6. 6. 3. 3. 2. 2. 0. 0.]]\n",
      "Vizinho 2 = \n",
      " [[2. 2. 3. 3. 6. 6. 6. 6. 0. 0.]\n",
      " [6. 6. 6. 6. 0. 0. 5. 5. 5. 5.]\n",
      " [4. 4. 4. 4. 6. 6. 6. 6. 2. 2.]\n",
      " [0. 0. 1. 1. 4. 4. 4. 4. 3. 3.]\n",
      " [6. 6. 6. 6. 3. 3. 2. 2. 0. 0.]]\n",
      "Vizinho 3 = \n",
      " [[2. 2. 3. 3. 6. 6. 6. 6. 0. 0.]\n",
      " [6. 6. 6. 6. 0. 0. 5. 5. 5. 5.]\n",
      " [4. 4. 4. 4. 6. 6. 6. 6. 2. 2.]\n",
      " [0. 0. 1. 1. 4. 4. 4. 4. 3. 3.]\n",
      " [6. 6. 6. 6. 3. 3. 2. 2. 0. 0.]]\n",
      "Vizinho 4 = \n",
      " [[2. 2. 3. 3. 6. 6. 6. 6. 0. 0.]\n",
      " [6. 6. 6. 6. 0. 0. 5. 5. 5. 5.]\n",
      " [4. 4. 4. 4. 6. 6. 6. 6. 2. 2.]\n",
      " [0. 0. 1. 1. 4. 4. 4. 4. 3. 3.]\n",
      " [6. 6. 6. 6. 3. 3. 2. 2. 0. 0.]]\n",
      "Vizinho 5 = \n",
      " [[2. 2. 3. 3. 6. 6. 6. 6. 0. 0.]\n",
      " [6. 6. 6. 6. 0. 0. 5. 5. 5. 5.]\n",
      " [4. 4. 4. 4. 6. 6. 6. 6. 2. 2.]\n",
      " [0. 0. 1. 1. 4. 4. 4. 4. 3. 3.]\n",
      " [6. 6. 6. 6. 3. 3. 2. 2. 0. 0.]]\n"
     ]
    }
   ],
   "source": [
    "constr= construtor()\n",
    "print(constr)\n",
    "for j in range(M):\n",
    "    V1[0,j]= constr[j]\n",
    "\n",
    "constr= construtor()   \n",
    "for j in range(M):\n",
    "    V2[1,j]= constr[j]\n",
    "    \n",
    "constr= construtor()\n",
    "for j in range(M):\n",
    "    V3[2,j]= constr[j]\n",
    "\n",
    "constr= construtor()\n",
    "for j in range(M):\n",
    "    V4[3,j]= constr[j]\n",
    "\n",
    "constr= construtor()\n",
    "print(constr)\n",
    "for j in range(M):\n",
    "    V5[4,j]= constr[j]\n",
    "    \n",
    "print (\"Matriz Construida: \\n\", Cult)    \n",
    "print(\"Vizinho 1 = \\n\", V1)\n",
    "print(\"Vizinho 2 = \\n\", V2)\n",
    "print(\"Vizinho 3 = \\n\", V3)\n",
    "print(\"Vizinho 4 = \\n\", V4)\n",
    "print(\"Vizinho 5 = \\n\", V5)"
   ]
  },
  {
   "cell_type": "code",
   "execution_count": null,
   "metadata": {},
   "outputs": [],
   "source": []
  }
 ],
 "metadata": {
  "kernelspec": {
   "display_name": "Python 3",
   "language": "python",
   "name": "python3"
  },
  "language_info": {
   "codemirror_mode": {
    "name": "ipython",
    "version": 3
   },
   "file_extension": ".py",
   "mimetype": "text/x-python",
   "name": "python",
   "nbconvert_exporter": "python",
   "pygments_lexer": "ipython3",
   "version": "3.7.3"
  }
 },
 "nbformat": 4,
 "nbformat_minor": 2
}
